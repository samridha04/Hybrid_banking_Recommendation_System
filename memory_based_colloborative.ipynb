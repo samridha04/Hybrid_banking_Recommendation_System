{
 "cells": [
  {
   "cell_type": "code",
   "execution_count": 1,
   "metadata": {},
   "outputs": [],
   "source": [
    "import numpy as np \n",
    "import pandas as pd \n",
    "import random\n",
    "from timeit import default_timer as timer"
   ]
  },
  {
   "cell_type": "code",
   "execution_count": 2,
   "metadata": {},
   "outputs": [],
   "source": [
    "dtype_list = {'ind_cco_fin_ult1': 'uint8', 'ind_deme_fin_ult1': 'uint8',\n",
    "            'ind_aval_fin_ult1': 'uint8', 'ind_valo_fin_ult1': 'uint8',\n",
    "            'ind_reca_fin_ult1': 'uint8', 'ind_ctju_fin_ult1': 'uint8',\n",
    "            'ind_cder_fin_ult1': 'uint8', 'ind_plan_fin_ult1': 'uint8',\n",
    "            'ind_fond_fin_ult1': 'uint8', 'ind_hip_fin_ult1': 'uint8',\n",
    "            'ind_pres_fin_ult1': 'uint8', 'ind_nomina_ult1': 'Int64', \n",
    "            'ind_cno_fin_ult1': 'uint8', 'ind_ctpp_fin_ult1': 'uint8',\n",
    "            'ind_ahor_fin_ult1': 'uint8', 'ind_dela_fin_ult1': 'uint8',\n",
    "            'ind_ecue_fin_ult1': 'uint8', 'ind_nom_pens_ult1': 'Int64',\n",
    "            'ind_recibo_ult1': 'uint8', 'ind_deco_fin_ult1': 'uint8',\n",
    "            'ind_tjcr_fin_ult1': 'uint8', 'ind_ctop_fin_ult1': 'uint8',\n",
    "            'ind_viv_fin_ult1': 'uint8', 'ind_ctma_fin_ult1': 'uint8',\n",
    "            'ncodpers' : 'uint32'} \n",
    "\n",
    "name_col = ['ncodpers', 'fecha_dato', 'ind_ahor_fin_ult1','ind_aval_fin_ult1','ind_cco_fin_ult1',\n",
    "               'ind_cder_fin_ult1','ind_cno_fin_ult1','ind_ctju_fin_ult1',\n",
    "               'ind_ctma_fin_ult1','ind_ctop_fin_ult1','ind_ctpp_fin_ult1',\n",
    "               'ind_deco_fin_ult1','ind_deme_fin_ult1','ind_dela_fin_ult1',\n",
    "               'ind_ecue_fin_ult1','ind_fond_fin_ult1','ind_hip_fin_ult1',\n",
    "               'ind_plan_fin_ult1','ind_pres_fin_ult1','ind_reca_fin_ult1',\n",
    "               'ind_tjcr_fin_ult1','ind_valo_fin_ult1','ind_viv_fin_ult1',\n",
    "               'ind_nomina_ult1','ind_nom_pens_ult1','ind_recibo_ult1']"
   ]
  },
  {
   "cell_type": "code",
   "execution_count": 3,
   "metadata": {},
   "outputs": [
    {
     "data": {
      "text/plain": [
       "(13647309, 26)"
      ]
     },
     "execution_count": 3,
     "metadata": {},
     "output_type": "execute_result"
    }
   ],
   "source": [
    "start = timer()\n",
    "# read a large csv file using chunks with specified dtype and usecols parameters to optimize memory usage\n",
    "reader = pd.read_csv('./df_train_small.csv.zip', chunksize=1e6,\n",
    "                     dtype=dtype_list, usecols=name_col)\n",
    "\n",
    "# concatenate the data from all the chunks into a single dataframe\n",
    "df_train = pd.concat([chunk for chunk in reader])\n",
    "df_train.shape"
   ]
  },
  {
   "cell_type": "code",
   "execution_count": 4,
   "metadata": {},
   "outputs": [
    {
     "data": {
      "text/plain": [
       "Index(['fecha_dato', 'ncodpers', 'ind_ahor_fin_ult1', 'ind_aval_fin_ult1',\n",
       "       'ind_cco_fin_ult1', 'ind_cder_fin_ult1', 'ind_cno_fin_ult1',\n",
       "       'ind_ctju_fin_ult1', 'ind_ctma_fin_ult1', 'ind_ctop_fin_ult1',\n",
       "       'ind_ctpp_fin_ult1', 'ind_deco_fin_ult1', 'ind_deme_fin_ult1',\n",
       "       'ind_dela_fin_ult1', 'ind_ecue_fin_ult1', 'ind_fond_fin_ult1',\n",
       "       'ind_hip_fin_ult1', 'ind_plan_fin_ult1', 'ind_pres_fin_ult1',\n",
       "       'ind_reca_fin_ult1', 'ind_tjcr_fin_ult1', 'ind_valo_fin_ult1',\n",
       "       'ind_viv_fin_ult1', 'ind_nomina_ult1', 'ind_nom_pens_ult1',\n",
       "       'ind_recibo_ult1'],\n",
       "      dtype='object')"
      ]
     },
     "execution_count": 4,
     "metadata": {},
     "output_type": "execute_result"
    }
   ],
   "source": [
    "df_train.columns"
   ]
  },
  {
   "cell_type": "code",
   "execution_count": 5,
   "metadata": {},
   "outputs": [
    {
     "data": {
      "text/plain": [
       "array(['2015-01-28', '2015-02-28', '2015-03-28', '2015-04-28',\n",
       "       '2015-05-28', '2015-06-28', '2015-07-28', '2015-08-28',\n",
       "       '2015-09-28', '2015-10-28', '2015-11-28', '2015-12-28',\n",
       "       '2016-01-28', '2016-02-28', '2016-03-28', '2016-04-28',\n",
       "       '2016-05-28'], dtype=object)"
      ]
     },
     "execution_count": 5,
     "metadata": {},
     "output_type": "execute_result"
    }
   ],
   "source": [
    "df_train.fecha_dato.unique()"
   ]
  },
  {
   "cell_type": "code",
   "execution_count": 6,
   "metadata": {},
   "outputs": [],
   "source": [
    "df_ui = df_train.set_index(\"ncodpers\").drop(columns=[\"fecha_dato\"])\n"
   ]
  },
  {
   "cell_type": "code",
   "execution_count": 7,
   "metadata": {},
   "outputs": [
    {
     "data": {
      "text/plain": [
       "(13631246, 24)"
      ]
     },
     "execution_count": 7,
     "metadata": {},
     "output_type": "execute_result"
    }
   ],
   "source": [
    "df_ui = df_train.set_index(\"ncodpers\").drop(columns=[\"fecha_dato\"]).dropna()\n",
    "df_ui.shape\n"
   ]
  },
  {
   "cell_type": "code",
   "execution_count": 8,
   "metadata": {},
   "outputs": [
    {
     "name": "stdout",
     "output_type": "stream",
     "text": [
      "{'ind_ahor_fin_ult1': 0.0, 'ind_aval_fin_ult1': 0.0, 'ind_cco_fin_ult1': 0.9662921348314607, 'ind_cder_fin_ult1': 0.0, 'ind_cno_fin_ult1': 0.2443820224719101, 'ind_ctju_fin_ult1': 0.0, 'ind_ctma_fin_ult1': 0.0, 'ind_ctop_fin_ult1': 0.0056179775280898875, 'ind_ctpp_fin_ult1': 0.0056179775280898875, 'ind_deco_fin_ult1': 0.0, 'ind_deme_fin_ult1': 0.0, 'ind_dela_fin_ult1': 0.011235955056179775, 'ind_ecue_fin_ult1': 0.1348314606741573, 'ind_fond_fin_ult1': 0.0028089887640449437, 'ind_hip_fin_ult1': 0.0, 'ind_plan_fin_ult1': 0.0028089887640449437, 'ind_pres_fin_ult1': 0.0, 'ind_reca_fin_ult1': 0.0056179775280898875, 'ind_tjcr_fin_ult1': 0.0056179775280898875, 'ind_valo_fin_ult1': 0.011235955056179775, 'ind_viv_fin_ult1': 0.0, 'ind_nomina_ult1': 0.17696629213483145, 'ind_nom_pens_ult1': 0.1797752808988764, 'ind_recibo_ult1': 0.19101123595505617}\n"
     ]
    }
   ],
   "source": [
    "import numpy as np\n",
    "import pandas as pd\n",
    "from sklearn.neighbors import NearestNeighbors\n",
    "\n",
    "def useritem_knn(user_id, df, n_neighbors=20):\n",
    "    \"\"\"\n",
    "    Recommends products for a user based on similar users using k-NN with cosine similarity.\n",
    "\n",
    "    Parameters:\n",
    "    - user_id (int): The ID of the user to recommend products for.\n",
    "    - df (DataFrame): User-item interaction matrix (users as rows, products as columns).\n",
    "    - n_neighbors (int): Number of similar users to consider.\n",
    "\n",
    "    Returns:\n",
    "    - dict: Dictionary with product probabilities (values between 0 and 1).\n",
    "    \"\"\"\n",
    "    # Ensure no missing values\n",
    "    df = df.fillna(0)\n",
    "\n",
    "    # Convert DataFrame index to list for safe lookup\n",
    "    user_list = df.index.tolist()\n",
    "    \n",
    "    if user_id not in user_list:\n",
    "        raise ValueError(\"User ID not found in the dataset\")\n",
    "\n",
    "    # Fit k-NN model on user-item matrix\n",
    "    knn = NearestNeighbors(metric='cosine', algorithm='brute', n_neighbors=min(n_neighbors + 1, len(df)))\n",
    "    knn.fit(df)\n",
    "\n",
    "    # Ensure correct input format for kneighbors() to avoid feature name warning\n",
    "    user_vector = df.loc[[user_id]]  # Keep it as a DataFrame to maintain feature names\n",
    "    distances, indices = knn.kneighbors(user_vector)\n",
    "\n",
    "    # Get similar users (excluding the user itself)\n",
    "    similar_users = indices.flatten()[1:]  # Skip the first one (itself)\n",
    "\n",
    "    if len(similar_users) == 0:\n",
    "        print(f\"⚠️ No similar users found for User {user_id}!\")\n",
    "        return {col: 0 for col in df.columns}  # No similar users, return zero probabilities\n",
    "\n",
    "    # Compute mean ownership probability for each product\n",
    "    return df.iloc[similar_users].mean().to_dict()\n",
    "\n",
    "\n",
    "\n",
    "# 🔹 Example usage\n",
    "recommendations = useritem_knn(1061608, df=df_ui, n_neighbors=20)\n",
    "print(recommendations)\n"
   ]
  },
  {
   "cell_type": "code",
   "execution_count": 9,
   "metadata": {},
   "outputs": [
    {
     "data": {
      "text/plain": [
       "{'ind_ahor_fin_ult1': 0.0,\n",
       " 'ind_aval_fin_ult1': 0.0,\n",
       " 'ind_cco_fin_ult1': 0.9662921348314607,\n",
       " 'ind_cder_fin_ult1': 0.0,\n",
       " 'ind_cno_fin_ult1': 0.2443820224719101,\n",
       " 'ind_ctju_fin_ult1': 0.0,\n",
       " 'ind_ctma_fin_ult1': 0.0,\n",
       " 'ind_ctop_fin_ult1': 0.0056179775280898875,\n",
       " 'ind_ctpp_fin_ult1': 0.0056179775280898875,\n",
       " 'ind_deco_fin_ult1': 0.0,\n",
       " 'ind_deme_fin_ult1': 0.0,\n",
       " 'ind_dela_fin_ult1': 0.011235955056179775,\n",
       " 'ind_ecue_fin_ult1': 0.1348314606741573,\n",
       " 'ind_fond_fin_ult1': 0.0028089887640449437,\n",
       " 'ind_hip_fin_ult1': 0.0,\n",
       " 'ind_plan_fin_ult1': 0.0028089887640449437,\n",
       " 'ind_pres_fin_ult1': 0.0,\n",
       " 'ind_reca_fin_ult1': 0.0056179775280898875,\n",
       " 'ind_tjcr_fin_ult1': 0.0056179775280898875,\n",
       " 'ind_valo_fin_ult1': 0.011235955056179775,\n",
       " 'ind_viv_fin_ult1': 0.0,\n",
       " 'ind_nomina_ult1': 0.17696629213483145,\n",
       " 'ind_nom_pens_ult1': 0.1797752808988764,\n",
       " 'ind_recibo_ult1': 0.19101123595505617}"
      ]
     },
     "execution_count": 9,
     "metadata": {},
     "output_type": "execute_result"
    }
   ],
   "source": [
    "recommendations"
   ]
  },
  {
   "cell_type": "code",
   "execution_count": null,
   "metadata": {},
   "outputs": [],
   "source": []
  },
  {
   "cell_type": "code",
   "execution_count": null,
   "metadata": {},
   "outputs": [],
   "source": []
  }
 ],
 "metadata": {
  "kernelspec": {
   "display_name": "Python 3",
   "language": "python",
   "name": "python3"
  },
  "language_info": {
   "codemirror_mode": {
    "name": "ipython",
    "version": 3
   },
   "file_extension": ".py",
   "mimetype": "text/x-python",
   "name": "python",
   "nbconvert_exporter": "python",
   "pygments_lexer": "ipython3",
   "version": "3.12.2"
  }
 },
 "nbformat": 4,
 "nbformat_minor": 2
}
